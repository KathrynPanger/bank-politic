{
 "cells": [
  {
   "cell_type": "code",
   "execution_count": 17,
   "metadata": {},
   "outputs": [],
   "source": [
    "#import modules\n",
    "import os\n",
    "import csv"
   ]
  },
  {
   "cell_type": "code",
   "execution_count": 18,
   "metadata": {},
   "outputs": [],
   "source": [
    "#open the dataset\n",
    "pypoll_csvpath = os.path.join('..', 'Resources', 'election_data.csv')"
   ]
  },
  {
   "cell_type": "code",
   "execution_count": 20,
   "metadata": {},
   "outputs": [],
   "source": [
    "#read the data\n",
    "pypoll_rowlist=[]\n",
    "with open(pypoll_csvpath) as pypoll_csvfile:\n",
    "    pypoll_csvreader = csv.reader(pypoll_csvfile, delimiter=',')\n",
    "    pypol_csv_header = next(pypoll_csvreader)\n",
    "\n",
    "\n",
    "    for row in pypoll_csvreader:\n",
    "        pypoll_rowlist.append(row)"
   ]
  },
  {
   "cell_type": "code",
   "execution_count": 21,
   "metadata": {},
   "outputs": [],
   "source": [
    "#get list of candidates\n",
    "candidate_list=[]\n",
    "for row in pypoll_rowlist:\n",
    "    candidate_list.append(row[2])"
   ]
  },
  {
   "cell_type": "code",
   "execution_count": 22,
   "metadata": {},
   "outputs": [
    {
     "name": "stdout",
     "output_type": "stream",
     "text": [
      "{'Khan': 2218231, 'Li': 492940, \"O'Tooley\": 105630, 'Correy': 704200, 'Missing_Value': 0}\n"
     ]
    }
   ],
   "source": [
    "#get votes for each candidate, save this to a dictionary\n",
    "candidate_wins= {\"Khan\":0, \"Li\":0,\"O'Tooley\":0, \"Correy\":0, \"Missing_Value\":0}\n",
    "for names in candidate_list:\n",
    "    if names ==\"Khan\":\n",
    "        candidate_wins[\"Khan\"]+=1\n",
    "    elif names ==\"Li\":\n",
    "        candidate_wins[\"Li\"] +=1\n",
    "    elif names== \"O'Tooley\":\n",
    "        candidate_wins[\"O'Tooley\"]+=1\n",
    "    elif names ==\"Correy\":\n",
    "        candidate_wins[\"Correy\"]+=1\n",
    "    else:\n",
    "        candidate_wins[\"Missing_Value\"]+=1\n",
    "print(candidate_wins)"
   ]
  },
  {
   "cell_type": "code",
   "execution_count": 23,
   "metadata": {},
   "outputs": [],
   "source": [
    "#get candidate percentage of votes, save this to a dictionary\n",
    "candidate_percentage=candidate_wins\n",
    "for names in candidate_wins:\n",
    "    if names ==\"Khan\":\n",
    "        candidate_percentage[\"Khan\"]=candidate_percentage[\"Khan\"]/len(pypoll_rowlist)*100\n",
    "    elif names ==\"Li\":\n",
    "        candidate_percentage[\"Li\"]=candidate_percentage[\"Li\"]/len(pypoll_rowlist)*100\n",
    "    elif names== \"O'Tooley\":\n",
    "        candidate_percentage[\"O'Tooley\"]=candidate_percentage[\"O'Tooley\"]/len(pypoll_rowlist)*100\n",
    "    elif names ==\"Correy\":\n",
    "        candidate_percentage[\"Correy\"]=candidate_percentage[\"Correy\"]/len(pypoll_rowlist)*100\n",
    "    else:\n",
    "        if candidate_percentage[\"Missing_Value\"]==0:\n",
    "            pass\n",
    "        else:\n",
    "            candidate_percentage[\"Missing_Value\"]=candidate_percentage[\"Missing_Value\"]/len(pypoll_rowlist)*100"
   ]
  },
  {
   "cell_type": "code",
   "execution_count": 24,
   "metadata": {},
   "outputs": [],
   "source": [
    "#create a sorted list of the winners and their percentage of total votes\n",
    "sorted_list=[]\n",
    "poppable_list=candidate_percentage\n",
    "\n",
    "while poppable_list:\n",
    "    winner_name = max(poppable_list, key=poppable_list.get)\n",
    "    sorted_list.append(winner_name)\n",
    "    winner_percent = max(poppable_list.values())\n",
    "    sorted_list.append(winner_percent)\n",
    "    poppable_list.pop(winner_name)\n",
    "\n",
    "\n",
    "\n"
   ]
  },
  {
   "cell_type": "code",
   "execution_count": 25,
   "metadata": {},
   "outputs": [
    {
     "name": "stdout",
     "output_type": "stream",
     "text": [
      "['Khan', 63.00001050837531, 'Correy', 19.999994319797125, 'Li', 13.999996023857989, \"O'Tooley\", 2.999999147969569, 'Missing_Value', 0]\n"
     ]
    }
   ],
   "source": [
    "print (sorted_list)"
   ]
  },
  {
   "cell_type": "code",
   "execution_count": 26,
   "metadata": {},
   "outputs": [
    {
     "name": "stdout",
     "output_type": "stream",
     "text": [
      "Election Results\n",
      "-------------------------\n",
      "Total Votes: 3521001\n",
      "-------------------------\n",
      "Khan: 63.00001050837531(2218231.0\n",
      "Correy: 19.999994319797125(704199.9999999999\n",
      "Li: 13.999996023857989(492940.0\n",
      "O'Tooley: 2.999999147969569(105630.0\n",
      "-------------------------\n",
      "Winner: Khan\n",
      "-------------------------\n"
     ]
    }
   ],
   "source": [
    "#print the output\n",
    "\n",
    "print(\"Election Results\")\n",
    "print(\"-------------------------\")\n",
    "print(f\"Total Votes: {len(pypoll_rowlist)}\")\n",
    "print(\"-------------------------\")\n",
    "print(f\"{sorted_list[0]}: {sorted_list[1]}({(sorted_list[1]/100)*len(pypoll_rowlist)}\")\n",
    "print(f\"{sorted_list[2]}: {sorted_list[3]}({(sorted_list[3]/100)*len(pypoll_rowlist)}\")\n",
    "print(f\"{sorted_list[4]}: {sorted_list[5]}({(sorted_list[5]/100)*len(pypoll_rowlist)}\")\n",
    "print(f\"{sorted_list[6]}: {sorted_list[7]}({(sorted_list[7]/100)*len(pypoll_rowlist)}\")\n",
    "print(\"-------------------------\")\n",
    "print(f\"Winner: {sorted_list[0]}\")\n",
    "print(\"-------------------------\")\n"
   ]
  },
  {
   "cell_type": "code",
   "execution_count": null,
   "metadata": {},
   "outputs": [],
   "source": []
  }
 ],
 "metadata": {
  "kernelspec": {
   "display_name": "Python 3",
   "language": "python",
   "name": "python3"
  },
  "language_info": {
   "codemirror_mode": {
    "name": "ipython",
    "version": 3
   },
   "file_extension": ".py",
   "mimetype": "text/x-python",
   "name": "python",
   "nbconvert_exporter": "python",
   "pygments_lexer": "ipython3",
   "version": "3.7.6"
  }
 },
 "nbformat": 4,
 "nbformat_minor": 4
}
