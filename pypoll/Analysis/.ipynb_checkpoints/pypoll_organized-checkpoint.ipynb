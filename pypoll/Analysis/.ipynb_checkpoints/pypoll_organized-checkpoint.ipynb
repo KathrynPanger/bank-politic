{
 "cells": [
  {
   "cell_type": "code",
   "execution_count": 99,
   "metadata": {},
   "outputs": [],
   "source": [
    "#import modules\n",
    "import os\n",
    "import csv"
   ]
  },
  {
   "cell_type": "code",
   "execution_count": 100,
   "metadata": {},
   "outputs": [],
   "source": [
    "#open the dataset\n",
    "pypoll_csvpath = os.path.join('..', 'Resources', 'election_data.csv')"
   ]
  },
  {
   "cell_type": "code",
   "execution_count": 101,
   "metadata": {},
   "outputs": [
    {
     "name": "stdout",
     "output_type": "stream",
     "text": [
      "Column Labels: ['Voter ID', 'County', 'Candidate']\n"
     ]
    }
   ],
   "source": [
    "#read the data\n",
    "pypoll_rowlist=[]\n",
    "with open(pypoll_csvpath) as pypoll_csvfile:\n",
    "    pypoll_csvreader = csv.reader(pypoll_csvfile, delimiter=',')\n",
    "    pypol_csv_header = next(pypoll_csvreader)\n",
    "    print(f\"Column Labels: {csv_header}\")\n",
    "\n",
    "\n",
    "    for row in pypoll_csvreader:\n",
    "        pypoll_rowlist.append(row)"
   ]
  },
  {
   "cell_type": "code",
   "execution_count": 102,
   "metadata": {},
   "outputs": [],
   "source": [
    "#get list of candidates\n",
    "candidate_list=[]\n",
    "for row in pypoll_rowlist:\n",
    "    candidate_list.append(row[2])"
   ]
  },
  {
   "cell_type": "code",
   "execution_count": 103,
   "metadata": {},
   "outputs": [
    {
     "name": "stdout",
     "output_type": "stream",
     "text": [
      "{'Khan': 2218231, 'Li': 492940, \"O'Tooley\": 105630, 'Correy': 704200, 'Missing_Value': 0}\n"
     ]
    }
   ],
   "source": [
    "#get votes for each candidate, save this to a dictionary\n",
    "candidate_wins= {\"Khan\":0, \"Li\":0,\"O'Tooley\":0, \"Correy\":0, \"Missing_Value\":0}\n",
    "for names in candidate_list:\n",
    "    if names ==\"Khan\":\n",
    "        candidate_wins[\"Khan\"]+=1\n",
    "    elif names ==\"Li\":\n",
    "        candidate_wins[\"Li\"] +=1\n",
    "    elif names== \"O'Tooley\":\n",
    "        candidate_wins[\"O'Tooley\"]+=1\n",
    "    elif names ==\"Correy\":\n",
    "        candidate_wins[\"Correy\"]+=1\n",
    "    else:\n",
    "        candidate_wins[\"Missing_Value\"]+=1\n",
    "print(candidate_wins)"
   ]
  },
  {
   "cell_type": "code",
   "execution_count": 104,
   "metadata": {},
   "outputs": [],
   "source": [
    "#get candidate percentage of votes, save this to a dictionary\n",
    "candidate_percentage=candidate_wins\n",
    "for names in candidate_wins:\n",
    "    if names ==\"Khan\":\n",
    "        candidate_percentage[\"Khan\"]=candidate_percentage[\"Khan\"]/len(pypoll_rowlist)*100\n",
    "    elif names ==\"Li\":\n",
    "        candidate_percentage[\"Li\"]=candidate_percentage[\"Li\"]/len(pypoll_rowlist)*100\n",
    "    elif names== \"O'Tooley\":\n",
    "        candidate_percentage[\"O'Tooley\"]=candidate_percentage[\"O'Tooley\"]/len(pypoll_rowlist)*100\n",
    "    elif names ==\"Correy\":\n",
    "        candidate_percentage[\"Correy\"]=candidate_percentage[\"Correy\"]/len(pypoll_rowlist)*100\n",
    "    else:\n",
    "        if candidate_percentage[\"Missing_Value\"]==0:\n",
    "            pass\n",
    "        else:\n",
    "            candidate_percentage[\"Missing_Value\"]=candidate_percentage[\"Missing_Value\"]/len(pypoll_rowlist)*100"
   ]
  },
  {
   "cell_type": "code",
   "execution_count": 105,
   "metadata": {},
   "outputs": [
    {
     "name": "stdout",
     "output_type": "stream",
     "text": [
      "Khan\n",
      "63.00001050837531\n"
     ]
    }
   ],
   "source": [
    "#find winner and winning percentage (note, this portion of the code is not original, but is modified from https://kite.com/python/answers/how-to-find-the-max-value-in-a-dictionary-in-python)\n",
    "winner_name = max(candidate_percentage, key=candidate_percentage.get)\n",
    "winner_percent = max(candidate_percentage.values())\n",
    "\n",
    "\n"
   ]
  },
  {
   "cell_type": "code",
   "execution_count": 106,
   "metadata": {},
   "outputs": [
    {
     "ename": "SyntaxError",
     "evalue": "invalid syntax (<ipython-input-106-c91e8bff386b>, line 3)",
     "output_type": "error",
     "traceback": [
      "\u001b[1;36m  File \u001b[1;32m\"<ipython-input-106-c91e8bff386b>\"\u001b[1;36m, line \u001b[1;32m3\u001b[0m\n\u001b[1;33m    print(-------------------------)\u001b[0m\n\u001b[1;37m                                   ^\u001b[0m\n\u001b[1;31mSyntaxError\u001b[0m\u001b[1;31m:\u001b[0m invalid syntax\n"
     ]
    }
   ],
   "source": []
  },
  {
   "cell_type": "code",
   "execution_count": null,
   "metadata": {},
   "outputs": [],
   "source": []
  }
 ],
 "metadata": {
  "kernelspec": {
   "display_name": "Python 3",
   "language": "python",
   "name": "python3"
  },
  "language_info": {
   "codemirror_mode": {
    "name": "ipython",
    "version": 3
   },
   "file_extension": ".py",
   "mimetype": "text/x-python",
   "name": "python",
   "nbconvert_exporter": "python",
   "pygments_lexer": "ipython3",
   "version": "3.7.6"
  }
 },
 "nbformat": 4,
 "nbformat_minor": 4
}
