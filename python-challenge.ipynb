{
 "metadata": {
  "language_info": {
   "codemirror_mode": {
    "name": "ipython",
    "version": 3
   },
   "file_extension": ".py",
   "mimetype": "text/x-python",
   "name": "python",
   "nbconvert_exporter": "python",
   "pygments_lexer": "ipython3",
   "version": "3.8.5-final"
  },
  "orig_nbformat": 2,
  "kernelspec": {
   "name": "python3",
   "display_name": "Python 3"
  }
 },
 "nbformat": 4,
 "nbformat_minor": 2,
 "cells": [
  {
   "cell_type": "code",
   "execution_count": null,
   "metadata": {},
   "outputs": [],
   "source": [
    "#Pybank tasks:\n",
    "#* Get total number of months included in the dataset\n",
    "#* Get total profit/losses over the entire period\n",
    "#* Get average profit/losses per month over the entire period\n",
    "#* The greatest increase in profits (date and amount) over the entire period\n",
    "#* The greatest decrease in losses (date and amount) over the entire period"
   ]
  },
  {
   "cell_type": "code",
   "execution_count": 67,
   "metadata": {},
   "outputs": [],
   "source": [
    "#Dependenceis\n",
    "import os\n",
    "import csv\n",
    "import pandas as pd\n",
    "from statistics import mean"
   ]
  },
  {
   "cell_type": "code",
   "execution_count": 21,
   "metadata": {},
   "outputs": [],
   "source": [
    "#Read Data\n",
    "df = pd.read_csv(\"pybank/Resources/budget_data.csv\")"
   ]
  },
  {
   "cell_type": "code",
   "execution_count": 51,
   "metadata": {},
   "outputs": [],
   "source": [
    "#Get the total months included in the dataset\n",
    "\n",
    "#---Get a list of months\n",
    "monthlist=[]\n",
    "for item in df[\"Date\"]:\n",
    "    monthlist.append((str(item)[0:3]))\n",
    "\n",
    "#----Get the count of unique months\n",
    "monthcount = (len(set(monthlist)))"
   ]
  },
  {
   "cell_type": "code",
   "execution_count": 55,
   "metadata": {},
   "outputs": [
    {
     "output_type": "stream",
     "name": "stdout",
     "text": [
      "12\n"
     ]
    }
   ],
   "source": [
    "#Get total profit/losses\" over the entire period\n",
    "total=sum(df[\"Profit/Losses\"])"
   ]
  },
  {
   "cell_type": "code",
   "execution_count": 68,
   "metadata": {},
   "outputs": [],
   "source": [
    "#Get average profit/losses over entire period\n",
    "avg_gain=mean(df[\"Profit/Losses\"])"
   ]
  },
  {
   "cell_type": "code",
   "execution_count": 70,
   "metadata": {},
   "outputs": [
    {
     "output_type": "execute_result",
     "data": {
      "text/plain": [
       "446309.0465116279"
      ]
     },
     "metadata": {},
     "execution_count": 70
    }
   ],
   "source": [
    "avg_gain"
   ]
  },
  {
   "cell_type": "code",
   "execution_count": null,
   "metadata": {},
   "outputs": [],
   "source": []
  }
 ]
}