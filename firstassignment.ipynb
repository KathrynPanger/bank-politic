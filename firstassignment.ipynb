{
 "cells": [
  {
   "cell_type": "code",
   "execution_count": null,
   "metadata": {},
   "outputs": [],
   "source": [
    "#This is not my finished analysis! This is a sandbox for me to try out code before I organize everything into a final file structure."
   ]
  },
  {
   "cell_type": "code",
   "execution_count": 47,
   "metadata": {},
   "outputs": [],
   "source": [
    "import os"
   ]
  },
  {
   "cell_type": "code",
   "execution_count": 48,
   "metadata": {},
   "outputs": [],
   "source": [
    "import csv"
   ]
  },
  {
   "cell_type": "code",
   "execution_count": 122,
   "metadata": {},
   "outputs": [],
   "source": [
    "import copy"
   ]
  },
  {
   "cell_type": "code",
   "execution_count": 3,
   "metadata": {},
   "outputs": [],
   "source": [
    "csvpath = os.path.join('pybank', 'Resources', 'budget_data.csv')"
   ]
  },
  {
   "cell_type": "code",
   "execution_count": 4,
   "metadata": {},
   "outputs": [
    {
     "name": "stdout",
     "output_type": "stream",
     "text": [
      "<_csv.reader object at 0x0000027977529F98>\n",
      "CSV Header: ['Date', 'Profit/Losses']\n"
     ]
    }
   ],
   "source": [
    "rowlist=[]\n",
    "with open(csvpath) as csvfile:\n",
    "\n",
    "    # CSV reader specifies delimiter and variable that holds contents\n",
    "    csvreader = csv.reader(csvfile, delimiter=',')\n",
    "\n",
    "    print(csvreader)\n",
    "\n",
    "    # Read the header row first (skip this step if there is now header)\n",
    "    csv_header = next(csvreader)\n",
    "    print(f\"CSV Header: {csv_header}\")\n",
    "\n",
    "    # Read each row of data after the header\n",
    "    for row in csvreader:\n",
    "        rowlist.append(row[0])"
   ]
  },
  {
   "cell_type": "code",
   "execution_count": 5,
   "metadata": {},
   "outputs": [],
   "source": [
    "splitlist=[]\n",
    "for item in rowlist:\n",
    "    splitlist.append(item.split(\"-\"))\n"
   ]
  },
  {
   "cell_type": "code",
   "execution_count": 6,
   "metadata": {},
   "outputs": [
    {
     "name": "stdout",
     "output_type": "stream",
     "text": [
      "[['Jan', '2010'], ['Feb', '2010'], ['Mar', '2010'], ['Apr', '2010'], ['May', '2010'], ['Jun', '2010'], ['Jul', '2010'], ['Aug', '2010'], ['Sep', '2010'], ['Oct', '2010'], ['Nov', '2010'], ['Dec', '2010'], ['Jan', '2011'], ['Feb', '2011'], ['Mar', '2011'], ['Apr', '2011'], ['May', '2011'], ['Jun', '2011'], ['Jul', '2011'], ['Aug', '2011'], ['Sep', '2011'], ['Oct', '2011'], ['Nov', '2011'], ['Dec', '2011'], ['Jan', '2012'], ['Feb', '2012'], ['Mar', '2012'], ['Apr', '2012'], ['May', '2012'], ['Jun', '2012'], ['Jul', '2012'], ['Aug', '2012'], ['Sep', '2012'], ['Oct', '2012'], ['Nov', '2012'], ['Dec', '2012'], ['Jan', '2013'], ['Feb', '2013'], ['Mar', '2013'], ['Apr', '2013'], ['May', '2013'], ['Jun', '2013'], ['Jul', '2013'], ['Aug', '2013'], ['Sep', '2013'], ['Oct', '2013'], ['Nov', '2013'], ['Dec', '2013'], ['Jan', '2014'], ['Feb', '2014'], ['Mar', '2014'], ['Apr', '2014'], ['May', '2014'], ['Jun', '2014'], ['Jul', '2014'], ['Aug', '2014'], ['Sep', '2014'], ['Oct', '2014'], ['Nov', '2014'], ['Dec', '2014'], ['Jan', '2015'], ['Feb', '2015'], ['Mar', '2015'], ['Apr', '2015'], ['May', '2015'], ['Jun', '2015'], ['Jul', '2015'], ['Aug', '2015'], ['Sep', '2015'], ['Oct', '2015'], ['Nov', '2015'], ['Dec', '2015'], ['Jan', '2016'], ['Feb', '2016'], ['Mar', '2016'], ['Apr', '2016'], ['May', '2016'], ['Jun', '2016'], ['Jul', '2016'], ['Aug', '2016'], ['Sep', '2016'], ['Oct', '2016'], ['Nov', '2016'], ['Dec', '2016'], ['Jan', '2017'], ['Feb', '2017']]\n"
     ]
    }
   ],
   "source": [
    "print(splitlist)"
   ]
  },
  {
   "cell_type": "code",
   "execution_count": 7,
   "metadata": {},
   "outputs": [],
   "source": [
    "monthsonly=[]\n",
    "for entry in splitlist:\n",
    "    monthsonly.append(entry[0])"
   ]
  },
  {
   "cell_type": "code",
   "execution_count": 8,
   "metadata": {},
   "outputs": [
    {
     "data": {
      "text/plain": [
       "12"
      ]
     },
     "execution_count": 8,
     "metadata": {},
     "output_type": "execute_result"
    }
   ],
   "source": [
    "len(set(monthsonly))"
   ]
  },
  {
   "cell_type": "code",
   "execution_count": 9,
   "metadata": {},
   "outputs": [
    {
     "name": "stdout",
     "output_type": "stream",
     "text": [
      "['Profit/Losses', '867884', '984655', '322013', '-69417', '310503', '522857', '1033096', '604885', '-216386', '477532', '893810', '-80353', '779806', '-335203', '697845', '793163', '485070', '584122', '62729', '668179', '899906', '834719', '132003', '309978', '-755566', '1170593', '252788', '1151518', '817256', '570757', '506702', '-1022534', '475062', '779976', '144175', '542494', '359333', '321469', '67780', '471435', '565603', '872480', '789480', '999942', '-1196225', '268997', '-687986', '1150461', '682458', '617856', '824098', '581943', '132864', '448062', '689161', '800701', '1166643', '947333', '578668', '988505', '1139715', '1029471', '687533', '-524626', '158620', '87795', '423389', '840723', '568529', '332067', '989499', '778237', '650000', '-1100387', '-174946', '757143', '445709', '712961', '-1163797', '569899', '768450', '102685', '795914', '60988', '138230', '671099']\n"
     ]
    }
   ],
   "source": [
    "profitlist=[]\n",
    "with open(csvpath) as csvfile:\n",
    "    csvreader = csv.reader(csvfile, delimiter=',')\n",
    "    for row in csvreader:\n",
    "        profitlist.append (row[1])\n",
    "print(profitlist)"
   ]
  },
  {
   "cell_type": "code",
   "execution_count": 10,
   "metadata": {},
   "outputs": [
    {
     "data": {
      "text/plain": [
       "'Profit/Losses'"
      ]
     },
     "execution_count": 10,
     "metadata": {},
     "output_type": "execute_result"
    }
   ],
   "source": [
    "profitlist.pop(0)"
   ]
  },
  {
   "cell_type": "code",
   "execution_count": 11,
   "metadata": {},
   "outputs": [],
   "source": [
    "profitlist_int=[]\n",
    "for profit in profitlist:\n",
    "    profitlist_int.append(int(profit))"
   ]
  },
  {
   "cell_type": "code",
   "execution_count": 12,
   "metadata": {},
   "outputs": [
    {
     "name": "stdout",
     "output_type": "stream",
     "text": [
      "[867884, 984655, 322013, -69417, 310503, 522857, 1033096, 604885, -216386, 477532, 893810, -80353, 779806, -335203, 697845, 793163, 485070, 584122, 62729, 668179, 899906, 834719, 132003, 309978, -755566, 1170593, 252788, 1151518, 817256, 570757, 506702, -1022534, 475062, 779976, 144175, 542494, 359333, 321469, 67780, 471435, 565603, 872480, 789480, 999942, -1196225, 268997, -687986, 1150461, 682458, 617856, 824098, 581943, 132864, 448062, 689161, 800701, 1166643, 947333, 578668, 988505, 1139715, 1029471, 687533, -524626, 158620, 87795, 423389, 840723, 568529, 332067, 989499, 778237, 650000, -1100387, -174946, 757143, 445709, 712961, -1163797, 569899, 768450, 102685, 795914, 60988, 138230, 671099]\n"
     ]
    }
   ],
   "source": [
    "print (profitlist_int)"
   ]
  },
  {
   "cell_type": "code",
   "execution_count": 13,
   "metadata": {},
   "outputs": [],
   "source": [
    "summation=0\n",
    "for amount in profitlist_int:\n",
    "    summation=summation+amount\n",
    "    "
   ]
  },
  {
   "cell_type": "code",
   "execution_count": 14,
   "metadata": {},
   "outputs": [
    {
     "name": "stdout",
     "output_type": "stream",
     "text": [
      "38382578\n"
     ]
    }
   ],
   "source": [
    "print(summation)"
   ]
  },
  {
   "cell_type": "code",
   "execution_count": 15,
   "metadata": {},
   "outputs": [
    {
     "name": "stdout",
     "output_type": "stream",
     "text": [
      "446309.0465116279\n"
     ]
    }
   ],
   "source": [
    "print (summation/(len(profitlist_int))) #average change in profits"
   ]
  },
  {
   "cell_type": "code",
   "execution_count": 16,
   "metadata": {},
   "outputs": [
    {
     "name": "stdout",
     "output_type": "stream",
     "text": [
      "1170593\n"
     ]
    }
   ],
   "source": [
    "print (max(profitlist_int))"
   ]
  },
  {
   "cell_type": "code",
   "execution_count": 17,
   "metadata": {},
   "outputs": [
    {
     "name": "stdout",
     "output_type": "stream",
     "text": [
      "-1196225\n"
     ]
    }
   ],
   "source": [
    "print (min(profitlist_int))"
   ]
  },
  {
   "cell_type": "code",
   "execution_count": 18,
   "metadata": {},
   "outputs": [],
   "source": [
    "pypoll_csvpath = os.path.join('pypoll', 'Resources', 'election_data.csv')"
   ]
  },
  {
   "cell_type": "code",
   "execution_count": 33,
   "metadata": {},
   "outputs": [
    {
     "name": "stdout",
     "output_type": "stream",
     "text": [
      "<_csv.reader object at 0x0000027908DBA438>\n",
      "CSV Header: ['Voter ID', 'County', 'Candidate']\n"
     ]
    }
   ],
   "source": [
    "pypoll_rowlist=[]\n",
    "with open(pypoll_csvpath) as pypoll_csvfile:\n",
    "    pypoll_csvreader = csv.reader(pypoll_csvfile, delimiter=',')\n",
    "    print(pypoll_csvreader)\n",
    "    csv_header = next(pypoll_csvreader)\n",
    "    print(f\"Column Labels: {csv_header}\")\n",
    "\n",
    "    # Read each row of data after the header\n",
    "    for row in pypoll_csvreader:\n",
    "        pypoll_rowlist.append(row)"
   ]
  },
  {
   "cell_type": "code",
   "execution_count": 35,
   "metadata": {},
   "outputs": [
    {
     "name": "stdout",
     "output_type": "stream",
     "text": [
      "3521001\n"
     ]
    }
   ],
   "source": [
    "print (len(pypoll_rowlist)) #this is the total number of votes cast"
   ]
  },
  {
   "cell_type": "code",
   "execution_count": 36,
   "metadata": {},
   "outputs": [],
   "source": [
    "id_list=[]\n",
    "country_list=[]\n",
    "candidate_list=[]\n",
    "for row in pypoll_rowlist:\n",
    "    id_list.append(row[0])\n",
    "    country_list.append(row[1])\n",
    "    candidate_list.append(row[2])\n",
    "    \n",
    "    "
   ]
  },
  {
   "cell_type": "code",
   "execution_count": 38,
   "metadata": {},
   "outputs": [
    {
     "name": "stdout",
     "output_type": "stream",
     "text": [
      "{'Khan', 'Li', \"O'Tooley\", 'Correy'}\n"
     ]
    }
   ],
   "source": [
    "print (set(candidate_list))"
   ]
  },
  {
   "cell_type": "code",
   "execution_count": 86,
   "metadata": {},
   "outputs": [],
   "source": [
    "candidate_wins= {\"Khan\":0, \"Li\":0,\"O'Tooley\":0, \"Correy\":0, \"Missing_Value\":0}\n",
    "for names in candidate_list:\n",
    "    if names ==\"Khan\":\n",
    "        candidate_wins[\"Khan\"]+=1\n",
    "    elif names ==\"Li\":\n",
    "        candidate_wins[\"Li\"] +=1\n",
    "    elif names== \"O'Tooley\":\n",
    "        candidate_wins[\"O'Tooley\"]+=1\n",
    "    elif names ==\"Correy\":\n",
    "        candidate_wins[\"Correy\"]+=1\n",
    "    else:\n",
    "        candidate_wins[\"Missing_Value\"]+=1\n",
    "        \n",
    "    "
   ]
  },
  {
   "cell_type": "code",
   "execution_count": 87,
   "metadata": {},
   "outputs": [
    {
     "name": "stdout",
     "output_type": "stream",
     "text": [
      "{'Khan': 2218231, 'Li': 492940, \"O'Tooley\": 105630, 'Correy': 704200, 'Missing_Value': 0}\n"
     ]
    }
   ],
   "source": [
    "print (candidate_wins)"
   ]
  },
  {
   "cell_type": "code",
   "execution_count": 125,
   "metadata": {},
   "outputs": [],
   "source": [
    "candidate_win_percentage=copy.deepcopy(candidate_wins)"
   ]
  },
  {
   "cell_type": "code",
   "execution_count": 134,
   "metadata": {},
   "outputs": [],
   "source": [
    "for names in set(candidate_list):\n",
    "    candidate_win_percentage[name]=5"
   ]
  },
  {
   "cell_type": "code",
   "execution_count": 135,
   "metadata": {},
   "outputs": [
    {
     "name": "stdout",
     "output_type": "stream",
     "text": [
      "{'Khan': 2218229, 'Li': 492938, \"O'Tooley\": 105628, 'Correy': 704198, 'Missing_Value': 5}\n"
     ]
    }
   ],
   "source": [
    "print (candidate_win_percentage)"
   ]
  },
  {
   "cell_type": "code",
   "execution_count": 110,
   "metadata": {},
   "outputs": [],
   "source": [
    "templist = []\n",
    "for person in set(candidate_list):\n",
    "    templist.append(person)\n",
    "    templist.append\n"
   ]
  },
  {
   "cell_type": "code",
   "execution_count": 139,
   "metadata": {},
   "outputs": [
    {
     "name": "stdout",
     "output_type": "stream",
     "text": [
      "25793.383720930233\n"
     ]
    }
   ],
   "source": [
    "print (candidate_wins[\"Khan\"]/len(rowlist))"
   ]
  },
  {
   "cell_type": "code",
   "execution_count": null,
   "metadata": {},
   "outputs": [],
   "source": [
    "copy.deepcopy(d1)"
   ]
  }
 ],
 "metadata": {
  "kernelspec": {
   "display_name": "Python 3",
   "language": "python",
   "name": "python3"
  },
  "language_info": {
   "codemirror_mode": {
    "name": "ipython",
    "version": 3
   },
   "file_extension": ".py",
   "mimetype": "text/x-python",
   "name": "python",
   "nbconvert_exporter": "python",
   "pygments_lexer": "ipython3",
   "version": "3.7.6"
  }
 },
 "nbformat": 4,
 "nbformat_minor": 4
}
