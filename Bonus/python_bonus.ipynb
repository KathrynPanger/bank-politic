{
 "metadata": {
  "language_info": {
   "codemirror_mode": {
    "name": "ipython",
    "version": 3
   },
   "file_extension": ".py",
   "mimetype": "text/x-python",
   "name": "python",
   "nbconvert_exporter": "python",
   "pygments_lexer": "ipython3",
   "version": "3.8.5-final"
  },
  "orig_nbformat": 2,
  "kernelspec": {
   "name": "python3",
   "display_name": "Python 3"
  }
 },
 "nbformat": 4,
 "nbformat_minor": 2,
 "cells": [
  {
   "source": [
    "* Get total number of votes cast\n",
    "* Get list of candidates who received votes\n",
    "* Get percentage of votes each candidate won\n",
    "* Get total number of votes each candidate won\n",
    "* Get winner of the election based on popular vote"
   ],
   "cell_type": "markdown",
   "metadata": {}
  },
  {
   "cell_type": "code",
   "execution_count": 3,
   "metadata": {},
   "outputs": [],
   "source": [
    "import pandas as pd"
   ]
  },
  {
   "cell_type": "code",
   "execution_count": 5,
   "metadata": {},
   "outputs": [],
   "source": [
    "df=pd.read_csv(\"../pypoll/Resources/election_data.csv\")"
   ]
  },
  {
   "cell_type": "code",
   "execution_count": 12,
   "metadata": {},
   "outputs": [],
   "source": [
    "unique = df[\"Voter ID\"].unique()\n",
    "total_votes=len(unique)"
   ]
  },
  {
   "cell_type": "code",
   "execution_count": 16,
   "metadata": {},
   "outputs": [],
   "source": [
    "candidates = list(df[\"Candidate\"].unique())"
   ]
  },
  {
   "cell_type": "code",
   "execution_count": 19,
   "metadata": {},
   "outputs": [
    {
     "output_type": "execute_result",
     "data": {
      "text/plain": [
       "         Voter ID County Candidate\n",
       "0        12864552  Marsh      Khan\n",
       "1        17444633  Marsh    Correy\n",
       "2        19330107  Marsh      Khan\n",
       "3        19865775  Queen      Khan\n",
       "4        11927875  Marsh      Khan\n",
       "...           ...    ...       ...\n",
       "3520996  18050509  Marsh      Khan\n",
       "3520997  13060332  Marsh      Khan\n",
       "3520998  16754708  Queen      Khan\n",
       "3520999  12083146  Queen      Khan\n",
       "3521000  14526187  Queen  O'Tooley\n",
       "\n",
       "[3521001 rows x 3 columns]"
      ],
      "text/html": "<div>\n<style scoped>\n    .dataframe tbody tr th:only-of-type {\n        vertical-align: middle;\n    }\n\n    .dataframe tbody tr th {\n        vertical-align: top;\n    }\n\n    .dataframe thead th {\n        text-align: right;\n    }\n</style>\n<table border=\"1\" class=\"dataframe\">\n  <thead>\n    <tr style=\"text-align: right;\">\n      <th></th>\n      <th>Voter ID</th>\n      <th>County</th>\n      <th>Candidate</th>\n    </tr>\n  </thead>\n  <tbody>\n    <tr>\n      <th>0</th>\n      <td>12864552</td>\n      <td>Marsh</td>\n      <td>Khan</td>\n    </tr>\n    <tr>\n      <th>1</th>\n      <td>17444633</td>\n      <td>Marsh</td>\n      <td>Correy</td>\n    </tr>\n    <tr>\n      <th>2</th>\n      <td>19330107</td>\n      <td>Marsh</td>\n      <td>Khan</td>\n    </tr>\n    <tr>\n      <th>3</th>\n      <td>19865775</td>\n      <td>Queen</td>\n      <td>Khan</td>\n    </tr>\n    <tr>\n      <th>4</th>\n      <td>11927875</td>\n      <td>Marsh</td>\n      <td>Khan</td>\n    </tr>\n    <tr>\n      <th>...</th>\n      <td>...</td>\n      <td>...</td>\n      <td>...</td>\n    </tr>\n    <tr>\n      <th>3520996</th>\n      <td>18050509</td>\n      <td>Marsh</td>\n      <td>Khan</td>\n    </tr>\n    <tr>\n      <th>3520997</th>\n      <td>13060332</td>\n      <td>Marsh</td>\n      <td>Khan</td>\n    </tr>\n    <tr>\n      <th>3520998</th>\n      <td>16754708</td>\n      <td>Queen</td>\n      <td>Khan</td>\n    </tr>\n    <tr>\n      <th>3520999</th>\n      <td>12083146</td>\n      <td>Queen</td>\n      <td>Khan</td>\n    </tr>\n    <tr>\n      <th>3521000</th>\n      <td>14526187</td>\n      <td>Queen</td>\n      <td>O'Tooley</td>\n    </tr>\n  </tbody>\n</table>\n<p>3521001 rows × 3 columns</p>\n</div>"
     },
     "metadata": {},
     "execution_count": 19
    }
   ],
   "source": [
    "df"
   ]
  },
  {
   "cell_type": "code",
   "execution_count": 40,
   "metadata": {},
   "outputs": [
    {
     "output_type": "stream",
     "name": "stdout",
     "text": [
      "Candidate: Khan, Percent: 63.0\n",
      "Candidate: Correy, Percent: 20.0\n",
      "Candidate: Li, Percent: 14.0\n",
      "Candidate: O'Tooley, Percent: 3.0\n"
     ]
    }
   ],
   "source": [
    "for name in candidates: \n",
    "   votes = df.loc[df[\"Candidate\"] == name]\n",
    "   count = len(votes)\n",
    "   percent = round(((count/total_votes)*100),2)\n",
    "   print(f\"Candidate: {name}, Percent: {percent}\")"
   ]
  },
  {
   "cell_type": "code",
   "execution_count": 21,
   "metadata": {},
   "outputs": [
    {
     "output_type": "execute_result",
     "data": {
      "text/plain": [
       "0          1\n",
       "1          1\n",
       "2          1\n",
       "3          1\n",
       "4          1\n",
       "          ..\n",
       "3520996    1\n",
       "3520997    1\n",
       "3520998    1\n",
       "3520999    1\n",
       "3521000    1\n",
       "Name: Candidate, Length: 3521001, dtype: int64"
      ]
     },
     "metadata": {},
     "execution_count": 21
    }
   ],
   "source": []
  },
  {
   "cell_type": "code",
   "execution_count": null,
   "metadata": {},
   "outputs": [],
   "source": []
  }
 ]
}