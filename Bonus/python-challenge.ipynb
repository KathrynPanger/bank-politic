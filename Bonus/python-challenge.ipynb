{
 "metadata": {
  "language_info": {
   "codemirror_mode": {
    "name": "ipython",
    "version": 3
   },
   "file_extension": ".py",
   "mimetype": "text/x-python",
   "name": "python",
   "nbconvert_exporter": "python",
   "pygments_lexer": "ipython3",
   "version": "3.8.5-final"
  },
  "orig_nbformat": 2,
  "kernelspec": {
   "name": "python3",
   "display_name": "Python 3"
  }
 },
 "nbformat": 4,
 "nbformat_minor": 2,
 "cells": [
  {
   "cell_type": "code",
   "execution_count": 120,
   "metadata": {},
   "outputs": [],
   "source": [
    "#Pybank tasks:\n",
    "#* Get total number of months included in the dataset\n",
    "#* Get total profit/losses over the entire period\n",
    "#* Get average profit/losses per month over the entire period\n",
    "#* The greatest increase in profits (date and amount) over the entire period\n",
    "#* The greatest decrease in losses (date and amount) over the entire period"
   ]
  },
  {
   "cell_type": "code",
   "execution_count": 121,
   "metadata": {},
   "outputs": [],
   "source": [
    "#Dependenceis\n",
    "import os\n",
    "import csv\n",
    "import pandas as pd\n",
    "from statistics import mean"
   ]
  },
  {
   "cell_type": "code",
   "execution_count": 122,
   "metadata": {},
   "outputs": [],
   "source": [
    "#Read Data\n",
    "df = pd.read_csv(\"pybank/Resources/budget_data.csv\")"
   ]
  },
  {
   "cell_type": "code",
   "execution_count": 123,
   "metadata": {},
   "outputs": [],
   "source": [
    "#Get the total months included in the dataset\n",
    "\n",
    "#---Get a list of months\n",
    "monthlist=[]\n",
    "for item in df[\"Date\"]:\n",
    "    monthlist.append((str(item)[0:3]))\n",
    "\n",
    "#----Get the count of unique months\n",
    "monthcount = (len(set(monthlist)))"
   ]
  },
  {
   "cell_type": "code",
   "execution_count": 124,
   "metadata": {},
   "outputs": [],
   "source": [
    "#Get total profit/losses\" over the entire period\n",
    "total=sum(df[\"Profit/Losses\"])"
   ]
  },
  {
   "cell_type": "code",
   "execution_count": 125,
   "metadata": {},
   "outputs": [],
   "source": [
    "#Get average profit/losses over entire period\n",
    "avg_gain=mean(df[\"Profit/Losses\"])"
   ]
  },
  {
   "cell_type": "code",
   "execution_count": 126,
   "metadata": {},
   "outputs": [],
   "source": [
    "max_gain=max(df[\"Profit/Losses\"])\n",
    "min_gain=min(df[\"Profit/Losses\"])"
   ]
  },
  {
   "cell_type": "code",
   "execution_count": 127,
   "metadata": {},
   "outputs": [],
   "source": [
    "df[\"profit\"]=df[\"Profit/Losses\"]\n",
    "min_date = str(df.query(f'profit=={min_gain}')['Date'])\n",
    "max_date = str(df.query(f'profit=={max_gain}')['Date'])"
   ]
  },
  {
   "cell_type": "code",
   "execution_count": 128,
   "metadata": {},
   "outputs": [
    {
     "output_type": "execute_result",
     "data": {
      "text/plain": [
       "'Feb-2012'"
      ]
     },
     "metadata": {},
     "execution_count": 128
    }
   ],
   "source": [
    "min_date = min_date[6:14]\n",
    "max_date = max_date[6:14]\n",
    "max_date"
   ]
  },
  {
   "cell_type": "code",
   "execution_count": 133,
   "metadata": {},
   "outputs": [
    {
     "output_type": "execute_result",
     "data": {
      "text/plain": [
       "51"
      ]
     },
     "metadata": {},
     "execution_count": 133
    }
   ],
   "source": [
    "pybank_bonus= open(r\"pybank_bonus.txt\",\"w+\")\n",
    "pybank_bonus.write(\"Financial Analysis \\n\")\n",
    "pybank_bonus.write(\"---------------------------- \\n\")\n",
    "pybank_bonus.write(f\"Total Months: {monthcount} \\n\")\n",
    "pybank_bonus.write(f\"Total: ${total} \\n\")\n",
    "pybank_bonus.write(f\"Average  Change: ${avg_gain:.2f} \\n\")\n",
    "pybank_bonus.write(f\"Greatest Increase in Profits: {max_date} (${min_gain}) \\n\")\n",
    "pybank_bonus.write(f\"Greatest Decrease in Profits: {min_date} (${max_gain}) \\n\")"
   ]
  }
 ]
}